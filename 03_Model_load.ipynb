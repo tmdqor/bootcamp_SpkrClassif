{
 "cells": [
  {
   "attachments": {},
   "cell_type": "markdown",
   "metadata": {},
   "source": [
    "## model load"
   ]
  },
  {
   "cell_type": "code",
   "execution_count": 8,
   "metadata": {},
   "outputs": [],
   "source": [
    "import librosa\n",
    "import numpy as np\n",
    "import math \n",
    "import tensorflow as tf\n",
    "\n",
    "labelset = {\"유재석\":0, \"박명수\":1, \"정형돈\":2, \"노홍철\":3, \"하하\":4, \n",
    "            \"정준하\":5, \"유인나\":6, \"아이유\":7, \"김이나\":8, \"이수현\":9}\n",
    "labelset_re = {v:k for k,v in labelset.items()}"
   ]
  },
  {
   "cell_type": "code",
   "execution_count": 3,
   "metadata": {},
   "outputs": [
    {
     "name": "stdout",
     "output_type": "stream",
     "text": [
      "(753109,) 16000\n",
      "94.138625\n"
     ]
    },
    {
     "name": "stderr",
     "output_type": "stream",
     "text": [
      "C:\\Users\\ASUS\\AppData\\Roaming\\Python\\Python39\\site-packages\\librosa\\util\\decorators.py:88: UserWarning: Empty filters detected in mel frequency basis. Some channels will produce empty responses. Try increasing your sampling rate (and fmax) or reducing n_mels.\n",
      "  return f(*args, **kwargs)\n"
     ]
    }
   ],
   "source": [
    "test_path = \"./data/test/mix_ver1.wav\"\n",
    "\n",
    "sample_rate = 16000\n",
    "y, sr = librosa.load(test_path, sr=sample_rate)\n",
    "print(y.shape, sr)\n",
    "\n",
    "time = y.shape[0] / sr\n",
    "print(time*2)\n",
    "\n",
    "mfccs_test = []\n",
    "for i in range(0, math.floor(time/0.5)):\n",
    "    start = int(i*(sample_rate/2))\n",
    "    end = int((i+1)*(sample_rate/2))\n",
    "    features = librosa.feature.mfcc(y=y[start:end], \n",
    "                                            sr=sample_rate,\n",
    "                                            n_mfcc=40, \n",
    "                                            hop_length=int(sample_rate*0.01),\n",
    "                                            n_fft=int(sample_rate*0.02)).T\n",
    "    mfccs_test.append(features)"
   ]
  },
  {
   "cell_type": "code",
   "execution_count": 4,
   "metadata": {},
   "outputs": [
    {
     "data": {
      "text/plain": [
       "(94, 51, 40)"
      ]
     },
     "execution_count": 4,
     "metadata": {},
     "output_type": "execute_result"
    }
   ],
   "source": [
    "# ndarray 변환\n",
    "mfccs_test_np = np.array(mfccs_test)\n",
    "mfccs_test_np.shape"
   ]
  },
  {
   "cell_type": "code",
   "execution_count": 5,
   "metadata": {},
   "outputs": [
    {
     "data": {
      "text/plain": [
       "(94, 51, 40, 1)"
      ]
     },
     "execution_count": 5,
     "metadata": {},
     "output_type": "execute_result"
    }
   ],
   "source": [
    "# reshape\n",
    "wav_X =  mfccs_test_np.reshape(-1, mfccs_test_np.shape[1], mfccs_test_np.shape[2], 1)\n",
    "wav_X.shape"
   ]
  },
  {
   "cell_type": "code",
   "execution_count": 7,
   "metadata": {},
   "outputs": [
    {
     "name": "stdout",
     "output_type": "stream",
     "text": [
      "3/3 [==============================] - 7s 32ms/step\n"
     ]
    }
   ],
   "source": [
    "model_cnn = tf.keras.models.load_model('./model_cnn.h5')\n",
    "pred = model_cnn.predict(wav_X)"
   ]
  },
  {
   "cell_type": "code",
   "execution_count": 9,
   "metadata": {},
   "outputs": [
    {
     "data": {
      "text/plain": [
       "[9, 8, 9, 8, 8, 8, 8, 8, 3, 3]"
      ]
     },
     "execution_count": 9,
     "metadata": {},
     "output_type": "execute_result"
    }
   ],
   "source": [
    "# 결과값\n",
    "result = [np.argmax(value) for value in pred]\n",
    "result[:10]"
   ]
  },
  {
   "cell_type": "code",
   "execution_count": 10,
   "metadata": {},
   "outputs": [
    {
     "data": {
      "text/plain": [
       "['이수현', '김이나', '이수현', '김이나', '김이나', '김이나', '김이나', '김이나', '노홍철', '노홍철']"
      ]
     },
     "execution_count": 10,
     "metadata": {},
     "output_type": "execute_result"
    }
   ],
   "source": [
    "# 결과값에 해당하는 이름으로 변환\n",
    "result_name = [labelset_re[value] for value in result]\n",
    "result_name[:10]"
   ]
  },
  {
   "cell_type": "code",
   "execution_count": 11,
   "metadata": {},
   "outputs": [
    {
     "data": {
      "text/plain": [
       "[100.0, 100.0, 100.0, 100.0, 100.0, 100.0, 100.0, 100.0, 100.0, 100.0]"
      ]
     },
     "execution_count": 11,
     "metadata": {},
     "output_type": "execute_result"
    }
   ],
   "source": [
    "# 각 결과값의 퍼센트\n",
    "result_per = [np.max(value)*100 for value in pred]\n",
    "result_per[:10]"
   ]
  },
  {
   "cell_type": "code",
   "execution_count": 12,
   "metadata": {},
   "outputs": [
    {
     "data": {
      "text/plain": [
       "Counter({100.0: 85,\n",
       "         99.99995231628418: 1,\n",
       "         99.99977350234985: 1,\n",
       "         99.70706701278687: 1,\n",
       "         91.13172888755798: 1,\n",
       "         99.98239874839783: 1,\n",
       "         99.60312247276306: 1,\n",
       "         99.99587535858154: 1,\n",
       "         99.95905756950378: 1,\n",
       "         99.58181977272034: 1})"
      ]
     },
     "execution_count": 12,
     "metadata": {},
     "output_type": "execute_result"
    }
   ],
   "source": [
    "# collections 를 사용하여 파이썬에서 배열에서 발생 횟수 찾기\n",
    "# collections : 데이터 컬렉션을 저장하는 컨테이너 역할\n",
    "import collections\n",
    "collections.Counter(result_per)"
   ]
  }
 ],
 "metadata": {
  "kernelspec": {
   "display_name": "base",
   "language": "python",
   "name": "python3"
  },
  "language_info": {
   "codemirror_mode": {
    "name": "ipython",
    "version": 3
   },
   "file_extension": ".py",
   "mimetype": "text/x-python",
   "name": "python",
   "nbconvert_exporter": "python",
   "pygments_lexer": "ipython3",
   "version": "3.9.12"
  },
  "orig_nbformat": 4,
  "vscode": {
   "interpreter": {
    "hash": "ad2bdc8ecc057115af97d19610ffacc2b4e99fae6737bb82f5d7fb13d2f2c186"
   }
  }
 },
 "nbformat": 4,
 "nbformat_minor": 2
}
