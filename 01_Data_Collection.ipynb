{
 "cells": [
  {
   "attachments": {},
   "cell_type": "markdown",
   "metadata": {},
   "source": [
    "# 데이터 수집"
   ]
  },
  {
   "attachments": {},
   "cell_type": "markdown",
   "metadata": {},
   "source": [
    "## 데이터 출처 \n",
    "* 유재석, 정형돈, 하하, 박명수, 정준하, 노홍철 : \n",
    "[무한도전 라디오 다시 듣기 정리](https://www.clien.net/service/board/park/6498695) .mp3\n",
    "* 유인나 :\n",
    "[유인나의 볼륨을 높여요](https://www.youtube.com/watch?v=8gvHhgPkwOw&t=943s) .mp4\n",
    "* 아이유 :\n",
    "[유인나의 볼륨을 높여요 스폐셜 DJ 아이유](https://www.youtube.com/watch?v=qGUbuDPS61Y&t=365s) .mp4\n",
    "* 이수현 :\n",
    "[악동뮤지션 수현의 볼륨을 높여요](https://www.youtube.com/watch?v=g96DBViw6dQ&t=470s) .mp4\n",
    "* 김이나 :\n",
    "[김이나의 별이 빛나는 밤에](https://art19.com/shows/STARNIGHT/episodes/2bddacf7-40b8-432d-bd53-cfef99115edb) .mp3\n",
    "\n",
    "* 박명수 & 하하\n",
    "[박명수의 라디오쇼 게스트 하하](https://www.youtube.com/watch?v=kkzGWsy9OcU&t=71s) .mp4\n",
    "* 유인나 & 아이유\n",
    "[유인나의 볼륨을 높여요 게스트 아이유](https://www.youtube.com/watch?v=W9inwEp0_cw&t=219s) .mp4"
   ]
  },
  {
   "attachments": {},
   "cell_type": "markdown",
   "metadata": {},
   "source": [
    "## 유튜브 다운로드"
   ]
  },
  {
   "cell_type": "code",
   "execution_count": 12,
   "metadata": {},
   "outputs": [],
   "source": [
    "from pytube import YouTube\n",
    "import glob\n",
    "import os.path"
   ]
  },
  {
   "cell_type": "code",
   "execution_count": 13,
   "metadata": {},
   "outputs": [
    {
     "data": {
      "text/plain": [
       "['https://www.youtube.com/watch?v=8gvHhgPkwOw&t=943s',\n",
       " 'https://www.youtube.com/watch?v=qGUbuDPS61Y&t=365s',\n",
       " 'https://www.youtube.com/watch?v=g96DBViw6dQ&t=470s',\n",
       " 'https://www.youtube.com/watch?v=kkzGWsy9OcU&t=71s',\n",
       " 'https://www.youtube.com/watch?v=W9inwEp0_cw&t=219s']"
      ]
     },
     "execution_count": 13,
     "metadata": {},
     "output_type": "execute_result"
    }
   ],
   "source": [
    "n = 5\n",
    "urlList = [0 for i in range(n)]\n",
    "\n",
    "# 유인나 : 160426 KBS Cool FM 유인나의 볼륨을 높여요 1부 (보이는 라디오 Ver)\n",
    "urlList[0] = \"https://www.youtube.com/watch?v=8gvHhgPkwOw&t=943s\"\n",
    "\n",
    "# 아이유 : [볼륨 깨알 영상] 140725 유인나의 볼륨을 높여요 스폐셜 DJ 아이유 1부\n",
    "urlList[1] = \"https://www.youtube.com/watch?v=qGUbuDPS61Y&t=365s\"\n",
    "\n",
    "# 이수현 : 190808 악동뮤지션 수현의 볼륨을 높여요 1~4부 With 펜타곤\n",
    "urlList[2] = \"https://www.youtube.com/watch?v=g96DBViw6dQ&t=470s\"\n",
    "\n",
    "# 박명수 & 하하 : 박명수의 라디오쇼 8주년 특집 [팔팔한 박명수, 팔팔한 라디오쇼] 축하사절단 하하\n",
    "urlList[3] = \"https://www.youtube.com/watch?v=kkzGWsy9OcU&t=71s\"\n",
    "\n",
    "# 유인나 & 아이유 : [Eng Sub][SG♥IU] 151023 유인나 Yoo Inna's Volume Up - Guest IU 아이유\n",
    "urlList[4] = \"https://www.youtube.com/watch?v=W9inwEp0_cw&t=219s\"\n",
    "\n",
    "urlList"
   ]
  },
  {
   "cell_type": "code",
   "execution_count": null,
   "metadata": {},
   "outputs": [],
   "source": [
    "folder_path = \"./data\"\n",
    "\n",
    "for url in urlList:\n",
    "    if url != 0:\n",
    "        #유튜브 전용 인스턴스 생성\n",
    "        yt = YouTube(url)\n",
    "        yt.streams.filter(only_audio=True).all()\n",
    "\n",
    "        # 특정영상 다운로드\n",
    "        yt.streams.filter(only_audio=True).first().download(folder_path)\n",
    "        print('success')"
   ]
  },
  {
   "attachments": {},
   "cell_type": "markdown",
   "metadata": {},
   "source": [
    "## 데이터 변환\n",
    "* WAV는 파형 오디오 파일 형식, 압축되지 않은 무손실 오디오 파일"
   ]
  },
  {
   "cell_type": "code",
   "execution_count": 2,
   "metadata": {},
   "outputs": [
    {
     "data": {
      "text/plain": [
       "['./data/origin\\\\김이나.mp4',\n",
       " './data/origin\\\\노홍철.mp3',\n",
       " './data/origin\\\\박명수&하하.mp4',\n",
       " './data/origin\\\\박명수.mp4',\n",
       " './data/origin\\\\아이유.mp4',\n",
       " './data/origin\\\\유인나&아이유.mp4',\n",
       " './data/origin\\\\유인나.mp4',\n",
       " './data/origin\\\\유재석.mp3',\n",
       " './data/origin\\\\이수현.mp4',\n",
       " './data/origin\\\\정준하.mp3',\n",
       " './data/origin\\\\정형돈.mp3',\n",
       " './data/origin\\\\하하.mp3']"
      ]
     },
     "execution_count": 2,
     "metadata": {},
     "output_type": "execute_result"
    }
   ],
   "source": [
    "files = glob.glob(\"./data/origin/*\")\n",
    "files"
   ]
  },
  {
   "cell_type": "code",
   "execution_count": 3,
   "metadata": {},
   "outputs": [
    {
     "name": "stdout",
     "output_type": "stream",
     "text": [
      "success : ./data/wav_folder/김이나.wav\n",
      "success : ./data/wav_folder/노홍철.wav\n",
      "success : ./data/wav_folder/박명수&하하.wav\n",
      "success : ./data/wav_folder/박명수.wav\n",
      "success : ./data/wav_folder/아이유.wav\n",
      "success : ./data/wav_folder/유인나&아이유.wav\n",
      "success : ./data/wav_folder/유인나.wav\n",
      "success : ./data/wav_folder/유재석.wav\n",
      "success : ./data/wav_folder/이수현.wav\n",
      "success : ./data/wav_folder/정준하.wav\n",
      "success : ./data/wav_folder/정형돈.wav\n",
      "success : ./data/wav_folder/하하.wav\n"
     ]
    }
   ],
   "source": [
    "import subprocess\n",
    "wav_folder = \"./data/wav_folder/\"\n",
    "\n",
    "# 확장자 변경\n",
    "for x in files:\n",
    "\tif not os.path.isdir(x):\n",
    "\t\tfilename = os.path.basename(x)\t# xxx.mp4\n",
    "\t\tfilename = os.path.splitext(filename)[0]  # xxx\n",
    "\t\tfilepath = os.path.join(wav_folder, filename+'.wav')\n",
    "\t\ttry:\n",
    "\t\t\tsubprocess.call(['ffmpeg', '-i', x, filepath])\n",
    "\t\t\tprint(f\"success : {filepath}\")\n",
    "\t\texcept:\n",
    "\t\t\tpass"
   ]
  },
  {
   "cell_type": "code",
   "execution_count": 15,
   "metadata": {},
   "outputs": [
    {
     "name": "stdout",
     "output_type": "stream",
     "text": [
      "success : ./data/이수현.mp4\n"
     ]
    }
   ],
   "source": [
    "# 한 파일만 변환\n",
    "f = \"./data/이수현.mp4\"\n",
    "\n",
    "new_f = os.path.splitext(f)[0] + \".wav\"\n",
    "try:\n",
    "    subprocess.call(['ffmpeg', '-i', f, new_f])\n",
    "    print(f\"success : {f}\")\n",
    "except:\n",
    "    pass"
   ]
  },
  {
   "attachments": {},
   "cell_type": "markdown",
   "metadata": {},
   "source": [
    "## 오디오 편집\n",
    "* 오디오 편집 프로그램을 이용하여 배경음악과 오디오가 겹치는 부분 제거"
   ]
  },
  {
   "attachments": {},
   "cell_type": "markdown",
   "metadata": {},
   "source": [
    "## 오디오 데이터 확인 및 공백 제거\n",
    "* 한 사람당 10분 이상의 음성 편집\n",
    "* 공백부분 제거 후 wav 파일 저장"
   ]
  },
  {
   "cell_type": "code",
   "execution_count": 38,
   "metadata": {},
   "outputs": [
    {
     "name": "stderr",
     "output_type": "stream",
     "text": [
      "C:\\Users\\ASUS\\AppData\\Local\\Temp\\ipykernel_15428\\3476589910.py:13: WavFileWarning: Chunk (non-data) not understood, skipping it.\n",
      "  sr, audio = sio.wavfile.read(x)\n"
     ]
    },
    {
     "name": "stdout",
     "output_type": "stream",
     "text": [
      "only_김이나.wav\t (shape : (90186129, 2), channel : 2, sample rate : 44100)\tsuccess\n",
      "only_노홍철.wav\t (shape : (30135720, 2), channel : 2, sample rate : 44100)\tsuccess\n",
      "only_박명수.wav\t (shape : (43355025, 2), channel : 2, sample rate : 44100)\tsuccess\n",
      "only_아이유.wav\t (shape : (79962948, 2), channel : 2, sample rate : 44100)\tsuccess\n",
      "only_유인나.wav\t (shape : (47833399, 2), channel : 2, sample rate : 44100)\tsuccess\n",
      "only_유재석.wav\t (shape : (55204368, 2), channel : 2, sample rate : 44100)\tsuccess\n",
      "only_이수현.wav\t (shape : (43516013, 2), channel : 2, sample rate : 44100)\tsuccess\n",
      "only_정준하.wav\t (shape : (49244038, 2), channel : 2, sample rate : 44100)\tsuccess\n",
      "only_정형돈.wav\t (shape : (46829823, 2), channel : 2, sample rate : 44100)\tsuccess\n",
      "only_하하.wav\t (shape : (43885332, 2), channel : 2, sample rate : 44100)\tsuccess\n"
     ]
    }
   ],
   "source": [
    "import scipy.io as sio\n",
    "import scipy.io.wavfile\n",
    "import soundfile as sf\n",
    "import numpy as np\n",
    "import pandas as pd\n",
    "\n",
    "files = glob.glob(\"./data/edit_voice_only/*\")\n",
    "for x in files:\n",
    "    file_name = os.path.basename(x)\n",
    "    folder_path = os.path.dirname(x)\n",
    "    if file_name.startswith(\"only_\"):\n",
    "        # 오디오 데이터 확인\n",
    "        sr, audio = sio.wavfile.read(x)\n",
    "        print(f\"{file_name}\\t (shape : {audio.shape}, channel : {audio.ndim}, sample rate : {sr})\", end=\"\\t\")\n",
    "        \n",
    "        # 공백 제거\n",
    "        # data = np.array( [[item for item in row if item != 0] for row in audio] ) # 리스트 컴프리헨션 사용하니 너무 느림\n",
    "        df = pd.DataFrame(audio)\n",
    "        df = df.loc[ (df[0]!=0) & (df[1]!=0) ]\n",
    "        data = np.array(df)\n",
    "        \n",
    "        # 저장 (edited_***.wav)\n",
    "        output_dir = os.path.join(folder_path, file_name.replace('only', 'edited'))\n",
    "        sf.write(output_dir, data, sr, format='WAV', endian='LITTLE', subtype='PCM_16') \n",
    "        print(\"success\")"
   ]
  }
 ],
 "metadata": {
  "kernelspec": {
   "display_name": "base",
   "language": "python",
   "name": "python3"
  },
  "language_info": {
   "codemirror_mode": {
    "name": "ipython",
    "version": 3
   },
   "file_extension": ".py",
   "mimetype": "text/x-python",
   "name": "python",
   "nbconvert_exporter": "python",
   "pygments_lexer": "ipython3",
   "version": "3.9.12"
  },
  "orig_nbformat": 4,
  "vscode": {
   "interpreter": {
    "hash": "ad2bdc8ecc057115af97d19610ffacc2b4e99fae6737bb82f5d7fb13d2f2c186"
   }
  }
 },
 "nbformat": 4,
 "nbformat_minor": 2
}
