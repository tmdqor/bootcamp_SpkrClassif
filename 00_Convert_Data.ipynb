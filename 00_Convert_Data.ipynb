{
 "cells": [
  {
   "attachments": {},
   "cell_type": "markdown",
   "metadata": {},
   "source": [
    "# Github Upload and Download"
   ]
  },
  {
   "attachments": {},
   "cell_type": "markdown",
   "metadata": {},
   "source": [
    "## Initialization"
   ]
  },
  {
   "cell_type": "code",
   "execution_count": 1,
   "metadata": {},
   "outputs": [],
   "source": [
    "import pydub\n",
    "import glob\n",
    "from pathlib import Path\n",
    "from tqdm import tqdm"
   ]
  },
  {
   "attachments": {},
   "cell_type": "markdown",
   "metadata": {},
   "source": [
    "## wav to mp3\n",
    "* github upload를 위해 용량을 줄이기 위해 mp3로 전환\n",
    "* only_wav -> only_mp3"
   ]
  },
  {
   "cell_type": "code",
   "execution_count": 2,
   "metadata": {},
   "outputs": [
    {
     "name": "stderr",
     "output_type": "stream",
     "text": [
      "100%|██████████| 10/10 [00:47<00:00,  4.70s/it]\n"
     ]
    }
   ],
   "source": [
    "for file in tqdm(glob.glob(\"./data/only_wav/*.wav\")):\n",
    "    sound = pydub.AudioSegment.from_wav(file)\n",
    "    sound.export(\"./data/only_mp3/\" + Path(file).stem + \".mp3\", format=\"mp3\")"
   ]
  },
  {
   "cell_type": "code",
   "execution_count": 3,
   "metadata": {},
   "outputs": [
    {
     "name": "stderr",
     "output_type": "stream",
     "text": [
      "100%|██████████| 4/4 [00:01<00:00,  2.70it/s]\n"
     ]
    }
   ],
   "source": [
    "for file in tqdm(glob.glob(\"./data/test_wav/*.wav\")):\n",
    "    sound = pydub.AudioSegment.from_wav(file)\n",
    "    sound.export(\"./data/test_mp3/\" + Path(file).stem + \".mp3\", format=\"mp3\")"
   ]
  },
  {
   "attachments": {},
   "cell_type": "markdown",
   "metadata": {},
   "source": [
    "## mp3 to wav\n",
    "* 프로젝트에 사용한 wav 파일로 전환"
   ]
  },
  {
   "cell_type": "code",
   "execution_count": 4,
   "metadata": {},
   "outputs": [
    {
     "name": "stderr",
     "output_type": "stream",
     "text": [
      "100%|██████████| 10/10 [00:21<00:00,  2.17s/it]\n"
     ]
    }
   ],
   "source": [
    "for file in tqdm(glob.glob(\"./data/only_mp3/*.mp3\")):\n",
    "    sound = pydub.AudioSegment.from_mp3(file)\n",
    "    sound.export(\"./data/only_wav/\" + Path(file).stem + \".wav\", format=\"wav\")"
   ]
  },
  {
   "cell_type": "code",
   "execution_count": 5,
   "metadata": {},
   "outputs": [
    {
     "name": "stderr",
     "output_type": "stream",
     "text": [
      "100%|██████████| 4/4 [00:00<00:00,  6.16it/s]\n"
     ]
    }
   ],
   "source": [
    "for file in tqdm(glob.glob(\"./data/test_mp3/*.mp3\")):\n",
    "    sound = pydub.AudioSegment.from_mp3(file)\n",
    "    sound.export(\"./data/test_wav/\" + Path(file).stem + \".wav\", format=\"wav\")"
   ]
  }
 ],
 "metadata": {
  "kernelspec": {
   "display_name": "Python 3",
   "language": "python",
   "name": "python3"
  },
  "language_info": {
   "codemirror_mode": {
    "name": "ipython",
    "version": 3
   },
   "file_extension": ".py",
   "mimetype": "text/x-python",
   "name": "python",
   "nbconvert_exporter": "python",
   "pygments_lexer": "ipython3",
   "version": "3.9.12"
  },
  "orig_nbformat": 4
 },
 "nbformat": 4,
 "nbformat_minor": 2
}
